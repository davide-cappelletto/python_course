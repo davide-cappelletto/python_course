{
 "cells": [
  {
   "cell_type": "code",
   "execution_count": 2,
   "metadata": {},
   "outputs": [],
   "source": [
    "class Vehicle:\n",
    "\n",
    "    def __init__(self, color, license_plate, is_electric):\n",
    "        self.color = color\n",
    "        self.license_plate = license_plate\n",
    "        self.is_electric = is_electric\n",
    "    \n",
    "    def show_license_plate(self):\n",
    "        print(self.license_plate)\n",
    "\n",
    "    def show_info(self):\n",
    "        print(\"My vehicle:\")\n",
    "        print(f\"Color: {self.color}\")\n",
    "        print(f\"License plate: {self.license_plate}\")\n",
    "        print(f\"Electric: {self.is_electric}\")\n"
   ]
  },
  {
   "cell_type": "code",
   "execution_count": 3,
   "metadata": {},
   "outputs": [],
   "source": [
    "class Employee:\n",
    "\n",
    "    def __init__(self, name, vehicle):\n",
    "        self.name = name\n",
    "        self.vehicle = vehicle\n",
    "\n",
    "    def show_vehicle_info(self):\n",
    "        self.vehicle.show_info()\n"
   ]
  },
  {
   "cell_type": "code",
   "execution_count": 4,
   "metadata": {},
   "outputs": [
    {
     "name": "stdout",
     "output_type": "stream",
     "text": [
      "My vehicle:\n",
      "Color: black\n",
      "License plate: AXY 245\n",
      "Electric: False\n",
      "AXY 245\n"
     ]
    }
   ],
   "source": [
    "vehicle = Vehicle(\"black\", \"AXY 245\", is_electric=False)\n",
    "\n",
    "employee = Employee(\"Gino\", vehicle)\n",
    "\n",
    "employee.show_vehicle_info()\n",
    "\n",
    "employee.vehicle.show_license_plate()"
   ]
  }
 ],
 "metadata": {
  "kernelspec": {
   "display_name": "Python 3",
   "language": "python",
   "name": "python3"
  },
  "language_info": {
   "codemirror_mode": {
    "name": "ipython",
    "version": 3
   },
   "file_extension": ".py",
   "mimetype": "text/x-python",
   "name": "python",
   "nbconvert_exporter": "python",
   "pygments_lexer": "ipython3",
   "version": "3.10.12"
  }
 },
 "nbformat": 4,
 "nbformat_minor": 2
}
