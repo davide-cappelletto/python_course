{
 "cells": [
  {
   "cell_type": "code",
   "execution_count": 1,
   "metadata": {},
   "outputs": [
    {
     "name": "stdout",
     "output_type": "stream",
     "text": [
      "Canis Lupus\n"
     ]
    }
   ],
   "source": [
    "class Dog:\n",
    "\n",
    "    species = \"Canis Lupus\"\n",
    "\n",
    "    def __init__(self, name, age, breed):\n",
    "        self.name = name\n",
    "        self.age = age\n",
    "        self.breed = breed\n",
    "\n",
    "print(Dog.species)"
   ]
  },
  {
   "cell_type": "code",
   "execution_count": 7,
   "metadata": {},
   "outputs": [
    {
     "name": "stdout",
     "output_type": "stream",
     "text": [
      "10\n",
      "10\n",
      "10\n"
     ]
    }
   ],
   "source": [
    "class Backpack:\n",
    "\n",
    "    max_num_items = 10\n",
    "\n",
    "    def __init__(self):\n",
    "        self.items = []\n",
    "    \n",
    "\n",
    "my_backpack = Backpack()\n",
    "your_backpack = Backpack()\n",
    "\n",
    "print(Backpack.max_num_items)\n",
    "\n",
    "print(my_backpack.max_num_items)\n",
    "print(your_backpack.max_num_items)"
   ]
  },
  {
   "cell_type": "code",
   "execution_count": 6,
   "metadata": {},
   "outputs": [
    {
     "name": "stdout",
     "output_type": "stream",
     "text": [
      "English\n"
     ]
    }
   ],
   "source": [
    "class User:\n",
    "    \n",
    "    default_language  = \"English\"\n",
    "    \n",
    "    def __init__(self, name, username):\n",
    "        self.name = name\n",
    "        self.username = username\n",
    "        self.language = User.default_language\n",
    "\n",
    "me = User(\"Davide\", \"space_cadet\")\n",
    "print(me.language)"
   ]
  },
  {
   "cell_type": "code",
   "execution_count": 5,
   "metadata": {},
   "outputs": [
    {
     "name": "stdout",
     "output_type": "stream",
     "text": [
      "1\n",
      "2\n"
     ]
    }
   ],
   "source": [
    "class Movie:\n",
    "\n",
    "    id_counter = 1\n",
    "\n",
    "    def __init__(self, title, rating):\n",
    "        self.id = Movie.id_counter\n",
    "        self.title = title\n",
    "        self.rating = rating\n",
    "\n",
    "        Movie.id_counter += 1\n",
    "\n",
    "\n",
    "my_movie = Movie(\"Sto Cazzo\", 4.5)\n",
    "your_movie = Movie(\"Vaffanculo\", 4.7)\n",
    "\n",
    "print(my_movie.id)\n",
    "print(your_movie.id)"
   ]
  },
  {
   "cell_type": "code",
   "execution_count": 10,
   "metadata": {},
   "outputs": [
    {
     "name": "stdout",
     "output_type": "stream",
     "text": [
      "0.25\n",
      "230\n"
     ]
    }
   ],
   "source": [
    "class Book:\n",
    "    \n",
    "    default_discount = 0.25\n",
    "    max_stock = 230\n",
    "    \n",
    "    def __init__(self, title, author, num_pages, is_published):\n",
    "        self.title = title\n",
    "        self.author = author\n",
    "        self.num_pages = num_pages\n",
    "        self.is_published = is_published\n",
    "        \n",
    "# Write your code below:\n",
    "discount = Book.default_discount\n",
    "max_stock = Book.max_stock\n",
    "\n",
    "print(discount)\n",
    "print(max_stock)"
   ]
  },
  {
   "cell_type": "code",
   "execution_count": 12,
   "metadata": {},
   "outputs": [
    {
     "name": "stdout",
     "output_type": "stream",
     "text": [
      "5\n",
      "5\n",
      "5\n",
      "10\n",
      "10\n",
      "10\n"
     ]
    }
   ],
   "source": [
    "class Circle:\n",
    "\n",
    "    radius = 5\n",
    "\n",
    "    def __init__(self, color):\n",
    "        self.color = color\n",
    "\n",
    "print(Circle.radius)\n",
    "\n",
    "my_circle = Circle(\"Blue\")\n",
    "your_circle = Circle(\"Green\")\n",
    "\n",
    "print(my_circle.radius)\n",
    "print(your_circle.radius)\n",
    "\n",
    "Circle.radius = 10\n",
    "\n",
    "print(Circle.radius)\n",
    "print(my_circle.radius)\n",
    "print(your_circle.radius)\n",
    "\n",
    "\n"
   ]
  },
  {
   "cell_type": "code",
   "execution_count": 16,
   "metadata": {},
   "outputs": [
    {
     "name": "stdout",
     "output_type": "stream",
     "text": [
      "12.99\n",
      "12.99\n",
      "13.99\n",
      "13.99\n"
     ]
    }
   ],
   "source": [
    "class Pizza:\n",
    "\n",
    "    price = 12.99\n",
    "\n",
    "    def __init__(self, description, toppings, crust):\n",
    "        self.description = description\n",
    "        self.toppings = toppings\n",
    "        self.crust = crust\n",
    "\n",
    "print(Pizza.price)\n",
    "\n",
    "my_pizza = Pizza(\"Margherita\", [\"Basil\", \"Mushrooms\"], \"New York Style\")\n",
    "print(my_pizza.price)\n",
    "\n",
    "Pizza.price = 13.99\n",
    "\n",
    "print(Pizza.price)\n",
    "print(my_pizza.price)\n"
   ]
  },
  {
   "cell_type": "code",
   "execution_count": null,
   "metadata": {},
   "outputs": [],
   "source": []
  }
 ],
 "metadata": {
  "kernelspec": {
   "display_name": "Python 3",
   "language": "python",
   "name": "python3"
  },
  "language_info": {
   "codemirror_mode": {
    "name": "ipython",
    "version": 3
   },
   "file_extension": ".py",
   "mimetype": "text/x-python",
   "name": "python",
   "nbconvert_exporter": "python",
   "pygments_lexer": "ipython3",
   "version": "3.10.12"
  }
 },
 "nbformat": 4,
 "nbformat_minor": 2
}
