{
 "cells": [
  {
   "cell_type": "code",
   "execution_count": 3,
   "metadata": {},
   "outputs": [
    {
     "name": "stdout",
     "output_type": "stream",
     "text": [
      "Blue\n",
      "Red\n",
      "Changing color...\n",
      "Green\n",
      "Red\n"
     ]
    }
   ],
   "source": [
    "class Backpack:\n",
    "\n",
    "    def __init__(self, color):\n",
    "        self.items = []\n",
    "        self.color = color\n",
    "\n",
    "\n",
    "my_backpack = Backpack(\"Blue\")\n",
    "your_backpack = Backpack(\"Red\")\n",
    "print(my_backpack.color)\n",
    "print(your_backpack.color)\n",
    "\n",
    "print(\"Changing color...\")\n",
    "my_backpack.color = \"Green\"\n",
    "print(my_backpack.color)\n",
    "print(your_backpack.color)\n"
   ]
  },
  {
   "cell_type": "code",
   "execution_count": 6,
   "metadata": {},
   "outputs": [
    {
     "name": "stdout",
     "output_type": "stream",
     "text": [
      "5\n",
      "Red\n",
      "15\n",
      "Black\n"
     ]
    }
   ],
   "source": [
    "class Circle:\n",
    "\n",
    "    def __init__(self, radius, color):\n",
    "        self.radius = radius\n",
    "        self.color = color\n",
    "\n",
    "my_circle = Circle(5, \"Red\")\n",
    "\n",
    "print(my_circle.radius)\n",
    "print(my_circle.color)\n",
    "\n",
    "my_circle.radius = 15\n",
    "my_circle.color = \"Black\"\n",
    "print(my_circle.radius)\n",
    "print(my_circle.color)\n"
   ]
  },
  {
   "cell_type": "code",
   "execution_count": null,
   "metadata": {},
   "outputs": [],
   "source": []
  }
 ],
 "metadata": {
  "kernelspec": {
   "display_name": "Python 3",
   "language": "python",
   "name": "python3"
  },
  "language_info": {
   "codemirror_mode": {
    "name": "ipython",
    "version": 3
   },
   "file_extension": ".py",
   "mimetype": "text/x-python",
   "name": "python",
   "nbconvert_exporter": "python",
   "pygments_lexer": "ipython3",
   "version": "3.10.12"
  }
 },
 "nbformat": 4,
 "nbformat_minor": 2
}
