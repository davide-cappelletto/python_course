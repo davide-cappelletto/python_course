{
 "cells": [
  {
   "cell_type": "code",
   "execution_count": null,
   "metadata": {},
   "outputs": [],
   "source": [
    "my_dict = {'key1':'value1', 'key2':'value2'}\n",
    "my_dict"
   ]
  },
  {
   "cell_type": "code",
   "execution_count": null,
   "metadata": {},
   "outputs": [],
   "source": [
    "my_dict['key1']"
   ]
  },
  {
   "cell_type": "code",
   "execution_count": null,
   "metadata": {},
   "outputs": [],
   "source": [
    "example = {'ls':['a', 'b', 'c'], 'dude':['what', 'the', 'heck']}\n",
    "\n",
    "print(example['ls'][0])\n",
    "print(example['dude'][1:3])\n",
    "\n",
    "example['ls'].append(4)\n",
    "print(example)\n",
    "\n",
    "print(example['ls'].index('b'))\n",
    "\n",
    "print(example.keys())\n",
    "print(example.values())\n",
    "print(example.items())"
   ]
  },
  {
   "cell_type": "code",
   "execution_count": null,
   "metadata": {},
   "outputs": [],
   "source": [
    "empty = {}\n",
    "print(empty)"
   ]
  },
  {
   "cell_type": "code",
   "execution_count": null,
   "metadata": {},
   "outputs": [],
   "source": [
    "trial = {'wow':['a', 'a', 'a']}\n",
    "\n",
    "for i in trial['wow']:\n",
    "\n",
    "     trial['wow'].index('a')"
   ]
  },
  {
   "cell_type": "code",
   "execution_count": null,
   "metadata": {},
   "outputs": [],
   "source": [
    "purchase = {'name': ['Milk', 'Milk', 'Milk', 'Eggs', 'Eggs', 'Flour', 'Flour']}\n",
    "element_to_find = 'Milk'\n",
    "\n",
    "# Find indices of the element within the lists\n",
    "indices = [index for index, value in enumerate(purchase['name']) if value == element_to_find]\n",
    "\n",
    "if indices:\n",
    "    print(f'The indices of {element_to_find} are: {indices}')\n",
    "else:\n",
    "    print(f'{element_to_find} is not in the list')\n"
   ]
  },
  {
   "cell_type": "code",
   "execution_count": 25,
   "metadata": {},
   "outputs": [
    {
     "name": "stdout",
     "output_type": "stream",
     "text": [
      "{'name': ['Milk', 'Milk', 'Milk', 'Eggs', 'Eggs', 'Flour', 'Flour', 'Milk'], 'price': [1.99, 1.99, 1.99, 2.49, 2.49, 1.29, 1.29, 1.99]}\n",
      "['Milk', 'Milk']\n"
     ]
    }
   ],
   "source": [
    "purchase = {'name': ['Milk', 'Milk', 'Milk', 'Eggs', 'Eggs', 'Flour', 'Flour','Milk'],'price':[1.99, 1.99, 1.99, 2.49, 2.49, 1.29, 1.29, 1.99]}\n",
    "element_to_find = 'Milk'\n",
    "\n",
    "print(purchase)\n",
    "print(purchase['name'][0:2])\n",
    "\n",
    "\n",
    "        #indices = [index for index, value in enumerate(self.purchase['name']) if value == product]\n",
    "        #for i in indices:\n",
    "            #del self.purchase['name'][i]\n",
    "            #del self.purchase['price'][i]\n",
    "\n",
    "        #if product in self.purchase['name']:\n",
    "            #i = self.purchase['name'].index(product)\n",
    "            #q = 1\n",
    "            #while q <= quantity:\n",
    "                #del self.purchase['name'][i]\n",
    "                #del self.purchase['price'][i]\n",
    "                #q += 1\n",
    "        #else:\n",
    "            #print('This product is not listed.')\n",
    "\n"
   ]
  }
 ],
 "metadata": {
  "kernelspec": {
   "display_name": "Python 3",
   "language": "python",
   "name": "python3"
  },
  "language_info": {
   "codemirror_mode": {
    "name": "ipython",
    "version": 3
   },
   "file_extension": ".py",
   "mimetype": "text/x-python",
   "name": "python",
   "nbconvert_exporter": "python",
   "pygments_lexer": "ipython3",
   "version": "3.10.12"
  }
 },
 "nbformat": 4,
 "nbformat_minor": 2
}
