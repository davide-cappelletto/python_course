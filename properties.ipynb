{
 "cells": [
  {
   "cell_type": "code",
   "execution_count": 6,
   "metadata": {},
   "outputs": [
    {
     "name": "stdout",
     "output_type": "stream",
     "text": [
      "Calling the getter...\n",
      "My dog is 8 years old.\n",
      "One year later...\n",
      "Calling the getter...\n",
      "Calling the setter...\n",
      "Calling the getter...\n",
      "My dog is now 9 years old.\n"
     ]
    }
   ],
   "source": [
    "class Dog:\n",
    "\n",
    "    def __init__(self, age):\n",
    "        self._age = age\n",
    "    \n",
    "    def get_age(self):\n",
    "        print(\"Calling the getter...\")\n",
    "        return self._age\n",
    "    \n",
    "    def set_age(self, new_age):\n",
    "        print(\"Calling the setter...\")\n",
    "        if isinstance(new_age, int) and 0 < new_age < 30:\n",
    "            self._age = new_age\n",
    "        else:\n",
    "            print(\"Please enter a valid age.\")\n",
    "    \n",
    "    age = property(get_age, set_age)\n",
    "\n",
    "\n",
    "\n",
    "my_dog = Dog(8)\n",
    "\n",
    "print(f\"My dog is {my_dog.age} years old.\")\n",
    "\n",
    "print(\"One year later...\")\n",
    "\n",
    "my_dog.age += 1\n",
    "\n",
    "print(f\"My dog is now {my_dog.age} years old.\")\n",
    "\n"
   ]
  },
  {
   "cell_type": "code",
   "execution_count": 8,
   "metadata": {},
   "outputs": [
    {
     "name": "stdout",
     "output_type": "stream",
     "text": [
      "10\n",
      "16\n",
      "Blue\n",
      "Red\n"
     ]
    }
   ],
   "source": [
    "class Circle:\n",
    "\n",
    "    VALID_COLORS = (\"Red\", \"Blue\", \"Green\")\n",
    "\n",
    "    def __init__(self, radius, color):\n",
    "        self._radius = radius\n",
    "        self._color = color\n",
    "    \n",
    "    def get_radius(self):\n",
    "        return self._radius\n",
    "    \n",
    "    def set_radius(self, new_radius):\n",
    "        if isinstance(new_radius, int) and new_radius > 0:\n",
    "            self._radius = new_radius\n",
    "        else:\n",
    "            print(\"Please enter a valid radius.\")\n",
    "    \n",
    "    radius = property(get_radius, set_radius)\n",
    "\n",
    "    def get_color(self):\n",
    "        return self._color\n",
    "    \n",
    "    def set_color(self, new_color):\n",
    "        if new_color in Circle.VALID_COLORS:\n",
    "            self._color = new_color\n",
    "        else:\n",
    "            print(\"Please enter a valid color.\")\n",
    "    \n",
    "    color = property(get_color, set_color)\n",
    "\n",
    "\n",
    "my_circle = Circle(10, \"Blue\")\n",
    "\n",
    "# Radius\n",
    "print(my_circle.radius)\n",
    "my_circle.radius = 16\n",
    "print(my_circle.radius)\n",
    "\n",
    "# Color\n",
    "print(my_circle.color)\n",
    "my_circle.color = \"Red\"\n",
    "print(my_circle.color)\n",
    "           \n",
    "\n",
    "\n"
   ]
  }
 ],
 "metadata": {
  "kernelspec": {
   "display_name": "Python 3",
   "language": "python",
   "name": "python3"
  },
  "language_info": {
   "codemirror_mode": {
    "name": "ipython",
    "version": 3
   },
   "file_extension": ".py",
   "mimetype": "text/x-python",
   "name": "python",
   "nbconvert_exporter": "python",
   "pygments_lexer": "ipython3",
   "version": "3.10.12"
  }
 },
 "nbformat": 4,
 "nbformat_minor": 2
}
