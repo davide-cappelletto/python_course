{
 "cells": [
  {
   "cell_type": "code",
   "execution_count": 1,
   "metadata": {},
   "outputs": [],
   "source": [
    "class Circle:\n",
    "\n",
    "    def __init__(self, radius):\n",
    "        self.radius = radius\n",
    "\n",
    "    \n",
    "    def find_diameter(self):\n",
    "        print(f\"Diameter: {self.radius * 2}\")\n",
    "        #return self.radius * 2\n",
    "    "
   ]
  },
  {
   "cell_type": "code",
   "execution_count": 18,
   "metadata": {},
   "outputs": [],
   "source": [
    "class Backpack:\n",
    "\n",
    "    def __init__(self):\n",
    "        self._items = []\n",
    "    \n",
    "    @property\n",
    "    def items(self):\n",
    "        return self._items\n",
    "    \n",
    "    def add_item(self, item):\n",
    "        if isinstance(item, str):\n",
    "            self._items.append(item)\n",
    "        else:\n",
    "            print(\"Please provide a valid item.\")\n",
    "\n",
    "    def remove_item(self, item):\n",
    "        if item in self._items:\n",
    "            self._items.remove(item)\n",
    "            return 1\n",
    "        else:\n",
    "            print(\"This item is not in the backpack.\")\n",
    "            return 0\n",
    "\n",
    "    def has_item(self, item):\n",
    "        return item in self._items\n",
    "    "
   ]
  },
  {
   "cell_type": "code",
   "execution_count": 21,
   "metadata": {},
   "outputs": [
    {
     "name": "stdout",
     "output_type": "stream",
     "text": [
      "[]\n",
      "['Water Bottle']\n",
      "True\n",
      "[]\n",
      "This item is not in the backpack.\n"
     ]
    },
    {
     "data": {
      "text/plain": [
       "0"
      ]
     },
     "execution_count": 21,
     "metadata": {},
     "output_type": "execute_result"
    }
   ],
   "source": [
    "my_backpack = Backpack()\n",
    "print(my_backpack.items)\n",
    "\n",
    "my_backpack.add_item(\"Water Bottle\")\n",
    "print(my_backpack.items)\n",
    "\n",
    "has_water = my_backpack.has_item(\"Water Bottle\")\n",
    "print(has_water)\n",
    "\n",
    "my_backpack.remove_item(\"Water Bottle\")\n",
    "print(my_backpack.items)\n",
    "\n",
    "my_backpack.remove_item(\"Candy\")\n"
   ]
  },
  {
   "cell_type": "code",
   "execution_count": 6,
   "metadata": {},
   "outputs": [
    {
     "name": "stdout",
     "output_type": "stream",
     "text": [
      "[4, 5, 6, 7, 8]\n",
      "[4, 5, 6, 7, 8, 14]\n",
      "[4, 5, 6, 7, 8, 14, 1, 2, 3]\n",
      "3\n",
      "[4, 5, 6, 7, 8, 14, 1, 2]\n"
     ]
    }
   ],
   "source": [
    "my_list = [4, 5, 6, 7, 8]\n",
    "\n",
    "my_list.sort()\n",
    "print(my_list)\n",
    "\n",
    "my_list.append(14)\n",
    "print(my_list)\n",
    "\n",
    "my_list.extend([1, 2, 3])\n",
    "print(my_list)\n",
    "\n",
    "number = my_list.pop()\n",
    "print(number)\n",
    "print(my_list)\n"
   ]
  },
  {
   "cell_type": "code",
   "execution_count": 9,
   "metadata": {},
   "outputs": [
    {
     "name": "stdout",
     "output_type": "stream",
     "text": [
      "10\n"
     ]
    }
   ],
   "source": [
    "class Circle:\n",
    "\n",
    "    def __init__(self, radius):\n",
    "        self.radius = radius\n",
    "\n",
    "    \n",
    "    def find_diameter(self):\n",
    "        return self.radius * 2\n",
    "    \n",
    "my_circle = Circle(5)\n",
    "\n",
    "diameter = my_circle.find_diameter()\n",
    "print(diameter)\n",
    "    "
   ]
  }
 ],
 "metadata": {
  "kernelspec": {
   "display_name": "Python 3",
   "language": "python",
   "name": "python3"
  },
  "language_info": {
   "codemirror_mode": {
    "name": "ipython",
    "version": 3
   },
   "file_extension": ".py",
   "mimetype": "text/x-python",
   "name": "python",
   "nbconvert_exporter": "python",
   "pygments_lexer": "ipython3",
   "version": "3.10.12"
  }
 },
 "nbformat": 4,
 "nbformat_minor": 2
}
