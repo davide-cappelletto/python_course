{
 "cells": [
  {
   "cell_type": "code",
   "execution_count": 8,
   "metadata": {},
   "outputs": [
    {
     "name": "stdout",
     "output_type": "stream",
     "text": [
      "y position: 10\n",
      "y position: 18\n",
      "y position: 13\n"
     ]
    }
   ],
   "source": [
    "class Player:\n",
    "\n",
    "    def __init__(self, x, y):\n",
    "        self.x = x\n",
    "        self.y = y\n",
    "\n",
    "    def move_up(self, change=5):\n",
    "        self.y += change\n",
    "    \n",
    "    def move_down(self, change=5):\n",
    "        self.y -= change\n",
    "    \n",
    "    def move_right(self, change=2):\n",
    "        self.x += change\n",
    "    \n",
    "    def move_left(self, change=2):\n",
    "        self.x -= change\n",
    "\n",
    "my_player = Player(5, 10)\n",
    "print(f\"y position: {my_player.y}\")\n",
    "\n",
    "my_player.move_up(8)\n",
    "print(f\"y position: {my_player.y}\")\n",
    "\n",
    "my_player.move_down()\n",
    "print(f\"y position: {my_player.y}\")"
   ]
  },
  {
   "cell_type": "code",
   "execution_count": 9,
   "metadata": {},
   "outputs": [],
   "source": [
    "class Backpack:\n",
    "\n",
    "    def __init__(self):\n",
    "        self._items = []\n",
    "    \n",
    "    @property\n",
    "    def items(self):\n",
    "        return self._items\n",
    "    \n",
    "    def add_item(self, item):\n",
    "        if isinstance(item, str):\n",
    "            self._items.append(item)\n",
    "        else:\n",
    "            print(\"Please provide a valid item.\")\n",
    "\n",
    "    def remove_item(self, item):\n",
    "        if item in self._items:\n",
    "            self._items.remove(item)\n",
    "            return 1\n",
    "        else:\n",
    "            print(\"This item is not in the backpack.\")\n",
    "            return 0\n",
    "\n",
    "    def has_item(self, item):\n",
    "        return item in self._items\n",
    "    \n",
    "    def show_items(self, sorted_list=False):\n",
    "        if sorted_list:\n",
    "            print(sorted(self._items))\n",
    "        else:\n",
    "            print(self._items)\n"
   ]
  },
  {
   "cell_type": "code",
   "execution_count": 11,
   "metadata": {},
   "outputs": [
    {
     "name": "stdout",
     "output_type": "stream",
     "text": [
      "Not Sorted:\n",
      "['Water Bottle', 'Sleeping Bag', 'Candy']\n",
      "Sorted:\n",
      "['Candy', 'Sleeping Bag', 'Water Bottle']\n"
     ]
    }
   ],
   "source": [
    "my_backpack = Backpack()\n",
    "\n",
    "my_backpack.add_item(\"Water Bottle\")\n",
    "my_backpack.add_item(\"Sleeping Bag\")\n",
    "my_backpack.add_item(\"Candy\")\n",
    "\n",
    "print(\"Not Sorted:\")\n",
    "my_backpack.show_items()\n",
    "\n",
    "print(\"Sorted:\")\n",
    "my_backpack.show_items(True)\n"
   ]
  }
 ],
 "metadata": {
  "kernelspec": {
   "display_name": "Python 3",
   "language": "python",
   "name": "python3"
  },
  "language_info": {
   "codemirror_mode": {
    "name": "ipython",
    "version": 3
   },
   "file_extension": ".py",
   "mimetype": "text/x-python",
   "name": "python",
   "nbconvert_exporter": "python",
   "pygments_lexer": "ipython3",
   "version": "3.10.12"
  }
 },
 "nbformat": 4,
 "nbformat_minor": 2
}
