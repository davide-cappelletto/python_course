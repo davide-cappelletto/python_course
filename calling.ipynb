{
 "cells": [
  {
   "cell_type": "code",
   "execution_count": 2,
   "metadata": {},
   "outputs": [],
   "source": [
    "class Backpack:\n",
    "\n",
    "    def __init__(self):\n",
    "        self._items = []\n",
    "    \n",
    "    @property\n",
    "    def items(self):\n",
    "        return self._items\n",
    "    \n",
    "    def add_multiple_items(self, items):\n",
    "        for item in items:\n",
    "            self.add_item(item)\n",
    "    \n",
    "    def add_item(self, item):\n",
    "        if isinstance(item, str):\n",
    "            self._items.append(item)\n",
    "        else:\n",
    "            print(\"Please provide a valid item.\")\n",
    "\n",
    "    def remove_item(self, item):\n",
    "        if item in self._items:\n",
    "            self._items.remove(item)\n",
    "            return 1\n",
    "        else:\n",
    "            print(\"This item is not in the backpack.\")\n",
    "            return 0\n",
    "\n",
    "    def has_item(self, item):\n",
    "        return item in self._items\n",
    "    \n",
    "    def show_items(self, sorted_list=False):\n",
    "        if sorted_list:\n",
    "            print(sorted(self._items))\n",
    "        else:\n",
    "            print(self._items)\n"
   ]
  },
  {
   "cell_type": "code",
   "execution_count": 4,
   "metadata": {},
   "outputs": [
    {
     "name": "stdout",
     "output_type": "stream",
     "text": [
      "[]\n",
      "['Water Bottle', 'Candy']\n"
     ]
    }
   ],
   "source": [
    "my_backpack = Backpack()\n",
    "print(my_backpack.items)\n",
    "\n",
    "my_backpack.add_multiple_items([\"Water Bottle\", \"Candy\"])\n",
    "print(my_backpack.items)\n"
   ]
  }
 ],
 "metadata": {
  "kernelspec": {
   "display_name": "Python 3",
   "language": "python",
   "name": "python3"
  },
  "language_info": {
   "codemirror_mode": {
    "name": "ipython",
    "version": 3
   },
   "file_extension": ".py",
   "mimetype": "text/x-python",
   "name": "python",
   "nbconvert_exporter": "python",
   "pygments_lexer": "ipython3",
   "version": "3.10.12"
  }
 },
 "nbformat": 4,
 "nbformat_minor": 2
}
