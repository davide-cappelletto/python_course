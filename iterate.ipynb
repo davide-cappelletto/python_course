{
 "cells": [
  {
   "cell_type": "code",
   "execution_count": 1,
   "metadata": {},
   "outputs": [
    {
     "name": "stdout",
     "output_type": "stream",
     "text": [
      "X: 5 Y: 6\n",
      "X: 2 Y: 4\n",
      "X: 3 Y: 6\n"
     ]
    }
   ],
   "source": [
    "class Player:\n",
    "\n",
    "    def __init__(self, x, y):\n",
    "        self.x = x\n",
    "        self.y = y\n",
    "\n",
    "\n",
    "player1 = Player(5, 6)\n",
    "player2 = Player(2, 4)\n",
    "player3 = Player(3, 6)\n",
    "\n",
    "players = [player1, player2, player3]\n",
    "\n",
    "for player in players:\n",
    "    print(f\"X: {player.x} Y: {player.y}\")"
   ]
  }
 ],
 "metadata": {
  "kernelspec": {
   "display_name": "Python 3",
   "language": "python",
   "name": "python3"
  },
  "language_info": {
   "codemirror_mode": {
    "name": "ipython",
    "version": 3
   },
   "file_extension": ".py",
   "mimetype": "text/x-python",
   "name": "python",
   "nbconvert_exporter": "python",
   "pygments_lexer": "ipython3",
   "version": "3.10.12"
  }
 },
 "nbformat": 4,
 "nbformat_minor": 2
}
