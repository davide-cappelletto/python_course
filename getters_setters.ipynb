{
 "cells": [
  {
   "cell_type": "code",
   "execution_count": 5,
   "metadata": {},
   "outputs": [
    {
     "name": "stdout",
     "output_type": "stream",
     "text": [
      "My favourite movie is: The Godfather\n"
     ]
    }
   ],
   "source": [
    "class Movie:\n",
    "\n",
    "    def __init__(self, title, rating):\n",
    "        self._title = title\n",
    "        self.rating = rating\n",
    "\n",
    "    def get_title(self):\n",
    "        return self._title\n",
    "    \n",
    "my_movie = Movie(\"The Godfather\", 4.8)\n",
    "\n",
    "#print(my_movie.title) gives error, it is non-public!\n",
    "\n",
    "print(\"My favourite movie is:\", my_movie.get_title())"
   ]
  },
  {
   "cell_type": "code",
   "execution_count": 3,
   "metadata": {},
   "outputs": [
    {
     "name": "stdout",
     "output_type": "stream",
     "text": [
      "My dog is: Ottor\n",
      "His new name is: Ottino\n"
     ]
    }
   ],
   "source": [
    "class Dog:\n",
    "\n",
    "    def __init__(self, name, age):\n",
    "        self._name = name\n",
    "        self.age = age\n",
    "    \n",
    "    def get_name(self):\n",
    "        return self._name\n",
    "    \n",
    "    def set_name(self, new_name):\n",
    "        if isinstance(new_name, str) and new_name.isalpha():\n",
    "            self._name = new_name\n",
    "        else:\n",
    "            print(\"Please enter a valid name.\")\n",
    "\n",
    "my_dog = Dog(\"Ottor\", 8)\n",
    "\n",
    "print(\"My dog is:\", my_dog.get_name())\n",
    "\n",
    "my_dog.set_name(\"Ottino\")\n",
    "\n",
    "print(\"His new name is:\", my_dog.get_name())"
   ]
  },
  {
   "cell_type": "code",
   "execution_count": null,
   "metadata": {},
   "outputs": [],
   "source": []
  }
 ],
 "metadata": {
  "kernelspec": {
   "display_name": "Python 3",
   "language": "python",
   "name": "python3"
  },
  "language_info": {
   "codemirror_mode": {
    "name": "ipython",
    "version": 3
   },
   "file_extension": ".py",
   "mimetype": "text/x-python",
   "name": "python",
   "nbconvert_exporter": "python",
   "pygments_lexer": "ipython3",
   "version": "3.10.12"
  }
 },
 "nbformat": 4,
 "nbformat_minor": 2
}
